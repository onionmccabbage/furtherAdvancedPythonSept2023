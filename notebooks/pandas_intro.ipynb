{
 "cells": [
  {
   "cell_type": "markdown",
   "id": "447c8289",
   "metadata": {},
   "source": [
    "### Introduction to Pandas"
   ]
  },
  {
   "cell_type": "code",
   "execution_count": 2,
   "id": "2c49b9c3",
   "metadata": {},
   "outputs": [],
   "source": [
    "# by convention we import things in the top cell\n",
    "import numpy as np\n",
    "import pandas as pd # convention is call it pd"
   ]
  },
  {
   "cell_type": "code",
   "execution_count": 7,
   "id": "f1a48b3d",
   "metadata": {},
   "outputs": [
    {
     "data": {
      "text/plain": [
       "RangeIndex(start=0, stop=5, step=1)"
      ]
     },
     "execution_count": 7,
     "metadata": {},
     "output_type": "execute_result"
    }
   ],
   "source": [
    "# pandas has a 'series' data type\n",
    "o = pd.Series([8.0, 7, -5, 3, 99]) # Series members must be the same data type\n",
    "o.dtype\n",
    "o # series always have a numeric index (zero based)\n",
    "o.values # it is a numpy array\n",
    "o.index  # it is a range "
   ]
  },
  {
   "cell_type": "markdown",
   "id": "c71f9519",
   "metadata": {},
   "source": [
    "#### Building Series"
   ]
  },
  {
   "cell_type": "code",
   "execution_count": 16,
   "id": "1d27f33f",
   "metadata": {},
   "outputs": [
    {
     "data": {
      "text/plain": [
       "d     4.000\n",
       "b    99.400\n",
       "a    -5.000\n",
       "c     3.000\n",
       "e     0.001\n",
       "dtype: float64"
      ]
     },
     "execution_count": 16,
     "metadata": {},
     "output_type": "execute_result"
    }
   ],
   "source": [
    "vals = [4, 7, -5, 3] # just a python list\n",
    "ind  = ['d', 'b', 'a', 'c'] # another python list\n",
    "# we can make a Series from these lists\n",
    "s = pd.Series(vals, index=ind) # formally declare the index\n",
    "s # in addition to the zero-based index, we have our own index\n",
    "s['c'] # access members by their index\n",
    "s['b']=99.4 # might need to automatically change the data type\n",
    "s # careful - auto dtype changes may be deprecated in future\n",
    "# we can add new members to our Series\n",
    "s['e']=0.001\n",
    "s"
   ]
  },
  {
   "cell_type": "markdown",
   "id": "8893f3f4",
   "metadata": {},
   "source": [
    "#### Slicing Series"
   ]
  },
  {
   "cell_type": "code",
   "execution_count": 20,
   "id": "c2ecbff0",
   "metadata": {},
   "outputs": [
    {
     "data": {
      "text/plain": [
       "b    99.4\n",
       "c     3.0\n",
       "dtype: float64"
      ]
     },
     "execution_count": 20,
     "metadata": {},
     "output_type": "execute_result"
    }
   ],
   "source": [
    "s['b':'e':2] # slicing start:stop:step (not stop-before)"
   ]
  },
  {
   "cell_type": "code",
   "execution_count": 24,
   "id": "be590c12",
   "metadata": {},
   "outputs": [
    {
     "data": {
      "text/plain": [
       "d    2.000000\n",
       "b    9.969955\n",
       "a         NaN\n",
       "c    1.732051\n",
       "e    0.031623\n",
       "dtype: float64"
      ]
     },
     "execution_count": 24,
     "metadata": {},
     "output_type": "execute_result"
    }
   ],
   "source": [
    "# we can apply logic to slice parts of our Series\n",
    "s[s>2]\n",
    "s[s<0]\n",
    "s**0.5"
   ]
  },
  {
   "cell_type": "code",
   "execution_count": 26,
   "id": "f1a203b3",
   "metadata": {},
   "outputs": [
    {
     "data": {
      "text/plain": [
       "Cork       35000.0\n",
       "Dublin     71000.0\n",
       "Shannon        NaN\n",
       "Athlone     5000.0\n",
       "Galway     16000.0\n",
       "dtype: float64"
      ]
     },
     "execution_count": 26,
     "metadata": {},
     "output_type": "execute_result"
    }
   ],
   "source": [
    "# we can make Series from many structures\n",
    "sdata = {'Cork':35000, 'Dublin':71000, 'Galway':16000, 'Athlone':5000}\n",
    "idata = ['Cork','Dublin', 'Shannon','Athlone','Galway']\n",
    "p = pd.Series(sdata, index=idata)\n",
    "p # missing values are autmatically set to NaN"
   ]
  },
  {
   "cell_type": "code",
   "execution_count": 28,
   "id": "fbc236d9",
   "metadata": {},
   "outputs": [
    {
     "data": {
      "text/plain": [
       "Cork       35000.0\n",
       "Dublin     71000.0\n",
       "Shannon    32345.0\n",
       "Athlone     5000.0\n",
       "Galway     16000.0\n",
       "dtype: float64"
      ]
     },
     "execution_count": 28,
     "metadata": {},
     "output_type": "execute_result"
    }
   ],
   "source": [
    "p['Cork']\n",
    "p['Shannon']=32345\n",
    "p"
   ]
  },
  {
   "cell_type": "markdown",
   "id": "6ede61c1",
   "metadata": {},
   "source": [
    "### Pandas DataFrame"
   ]
  },
  {
   "cell_type": "code",
   "execution_count": 32,
   "id": "169ded8c",
   "metadata": {},
   "outputs": [
    {
     "data": {
      "text/plain": [
       "{'Town': ['Cork',\n",
       "  'Dublin',\n",
       "  'Galway',\n",
       "  'Athlone',\n",
       "  'Shannon',\n",
       "  'Rosscarbery',\n",
       "  'Athenry'],\n",
       " 'Year': [2017, 2018, 2019, 2020, 2021, 2022, 2023],\n",
       " 'Pop': [1.5, 1.7, 3.6, 2.4, 2.9, 3.2, 1.7]}"
      ]
     },
     "execution_count": 32,
     "metadata": {},
     "output_type": "execute_result"
    }
   ],
   "source": [
    "# DataFrame is a collection of Series. Each column of a DataFame is a Series\n",
    "# Each column must contain ONE data type (since it is a Series)\n",
    "# Across the DataFrame we can have different data types\n",
    "# a DataFrame looks a bit like a spreadsheet\n",
    "towns_l = ['Cork', 'Dublin', 'Galway', 'Athlone', 'Shannon', 'Rosscarbery', 'Athenry']\n",
    "years_l = [2017, 2018, 2019, 2020, 2021, 2022, 2023]\n",
    "pop_l   = [1.5, 1.7, 3.6, 2.4, 2.9, 3.2, 1.7]\n",
    "data    = {'Town':towns_l, 'Year':years_l, 'Pop':pop_l}\n",
    "data"
   ]
  },
  {
   "cell_type": "code",
   "execution_count": 43,
   "id": "a4151e47",
   "metadata": {},
   "outputs": [
    {
     "data": {
      "text/html": [
       "<div>\n",
       "<style scoped>\n",
       "    .dataframe tbody tr th:only-of-type {\n",
       "        vertical-align: middle;\n",
       "    }\n",
       "\n",
       "    .dataframe tbody tr th {\n",
       "        vertical-align: top;\n",
       "    }\n",
       "\n",
       "    .dataframe thead th {\n",
       "        text-align: right;\n",
       "    }\n",
       "</style>\n",
       "<table border=\"1\" class=\"dataframe\">\n",
       "  <thead>\n",
       "    <tr style=\"text-align: right;\">\n",
       "      <th></th>\n",
       "      <th>Town</th>\n",
       "      <th>Year</th>\n",
       "      <th>Pop</th>\n",
       "    </tr>\n",
       "  </thead>\n",
       "  <tbody>\n",
       "    <tr>\n",
       "      <th>Cork</th>\n",
       "      <td>Cork</td>\n",
       "      <td>2017</td>\n",
       "      <td>1.5</td>\n",
       "    </tr>\n",
       "    <tr>\n",
       "      <th>Dublin</th>\n",
       "      <td>Dublin</td>\n",
       "      <td>2018</td>\n",
       "      <td>1.7</td>\n",
       "    </tr>\n",
       "    <tr>\n",
       "      <th>Galway</th>\n",
       "      <td>Galway</td>\n",
       "      <td>2019</td>\n",
       "      <td>3.6</td>\n",
       "    </tr>\n",
       "    <tr>\n",
       "      <th>Athlone</th>\n",
       "      <td>Athlone</td>\n",
       "      <td>2020</td>\n",
       "      <td>2.4</td>\n",
       "    </tr>\n",
       "    <tr>\n",
       "      <th>Shannon</th>\n",
       "      <td>Shannon</td>\n",
       "      <td>2021</td>\n",
       "      <td>2.9</td>\n",
       "    </tr>\n",
       "    <tr>\n",
       "      <th>Rosscarbery</th>\n",
       "      <td>Rosscarbery</td>\n",
       "      <td>2022</td>\n",
       "      <td>3.2</td>\n",
       "    </tr>\n",
       "    <tr>\n",
       "      <th>Athenry</th>\n",
       "      <td>Athenry</td>\n",
       "      <td>2023</td>\n",
       "      <td>1.7</td>\n",
       "    </tr>\n",
       "  </tbody>\n",
       "</table>\n",
       "</div>"
      ],
      "text/plain": [
       "                    Town  Year  Pop\n",
       "Cork                Cork  2017  1.5\n",
       "Dublin            Dublin  2018  1.7\n",
       "Galway            Galway  2019  3.6\n",
       "Athlone          Athlone  2020  2.4\n",
       "Shannon          Shannon  2021  2.9\n",
       "Rosscarbery  Rosscarbery  2022  3.2\n",
       "Athenry          Athenry  2023  1.7"
      ]
     },
     "execution_count": 43,
     "metadata": {},
     "output_type": "execute_result"
    }
   ],
   "source": [
    "# we can choose to specify the index when we built the DataFrame\n",
    "df = pd.DataFrame(data, index=towns_l)\n",
    "df # each column so fthe DataFrame is a Series\n",
    "# we have a default index (zero-based)"
   ]
  },
  {
   "cell_type": "code",
   "execution_count": 39,
   "id": "248556b8",
   "metadata": {},
   "outputs": [
    {
     "data": {
      "text/html": [
       "<div>\n",
       "<style scoped>\n",
       "    .dataframe tbody tr th:only-of-type {\n",
       "        vertical-align: middle;\n",
       "    }\n",
       "\n",
       "    .dataframe tbody tr th {\n",
       "        vertical-align: top;\n",
       "    }\n",
       "\n",
       "    .dataframe thead th {\n",
       "        text-align: right;\n",
       "    }\n",
       "</style>\n",
       "<table border=\"1\" class=\"dataframe\">\n",
       "  <thead>\n",
       "    <tr style=\"text-align: right;\">\n",
       "      <th></th>\n",
       "      <th>Town</th>\n",
       "      <th>Year</th>\n",
       "      <th>Pop</th>\n",
       "    </tr>\n",
       "  </thead>\n",
       "  <tbody>\n",
       "    <tr>\n",
       "      <th>5</th>\n",
       "      <td>Rosscarbery</td>\n",
       "      <td>2022</td>\n",
       "      <td>3.2</td>\n",
       "    </tr>\n",
       "    <tr>\n",
       "      <th>6</th>\n",
       "      <td>Athenry</td>\n",
       "      <td>2023</td>\n",
       "      <td>1.7</td>\n",
       "    </tr>\n",
       "  </tbody>\n",
       "</table>\n",
       "</div>"
      ],
      "text/plain": [
       "          Town  Year  Pop\n",
       "5  Rosscarbery  2022  3.2\n",
       "6      Athenry  2023  1.7"
      ]
     },
     "execution_count": 39,
     "metadata": {},
     "output_type": "execute_result"
    }
   ],
   "source": [
    "df.head(3) # just the top\n",
    "df.tail(2) # just the last few"
   ]
  },
  {
   "cell_type": "code",
   "execution_count": 86,
   "id": "66d86307",
   "metadata": {},
   "outputs": [
    {
     "data": {
      "text/html": [
       "<div>\n",
       "<style scoped>\n",
       "    .dataframe tbody tr th:only-of-type {\n",
       "        vertical-align: middle;\n",
       "    }\n",
       "\n",
       "    .dataframe tbody tr th {\n",
       "        vertical-align: top;\n",
       "    }\n",
       "\n",
       "    .dataframe thead th {\n",
       "        text-align: right;\n",
       "    }\n",
       "</style>\n",
       "<table border=\"1\" class=\"dataframe\">\n",
       "  <thead>\n",
       "    <tr style=\"text-align: right;\">\n",
       "      <th></th>\n",
       "      <th>Year</th>\n",
       "      <th>Pop</th>\n",
       "    </tr>\n",
       "  </thead>\n",
       "  <tbody>\n",
       "    <tr>\n",
       "      <th>one</th>\n",
       "      <td>2017</td>\n",
       "      <td>1.5</td>\n",
       "    </tr>\n",
       "    <tr>\n",
       "      <th>two</th>\n",
       "      <td>2018</td>\n",
       "      <td>1.7</td>\n",
       "    </tr>\n",
       "    <tr>\n",
       "      <th>three</th>\n",
       "      <td>2019</td>\n",
       "      <td>3.6</td>\n",
       "    </tr>\n",
       "    <tr>\n",
       "      <th>four</th>\n",
       "      <td>2020</td>\n",
       "      <td>2.4</td>\n",
       "    </tr>\n",
       "    <tr>\n",
       "      <th>five</th>\n",
       "      <td>2021</td>\n",
       "      <td>2.9</td>\n",
       "    </tr>\n",
       "    <tr>\n",
       "      <th>six</th>\n",
       "      <td>2022</td>\n",
       "      <td>3.2</td>\n",
       "    </tr>\n",
       "    <tr>\n",
       "      <th>seven</th>\n",
       "      <td>2023</td>\n",
       "      <td>1.7</td>\n",
       "    </tr>\n",
       "  </tbody>\n",
       "</table>\n",
       "</div>"
      ],
      "text/plain": [
       "       Year  Pop\n",
       "one    2017  1.5\n",
       "two    2018  1.7\n",
       "three  2019  3.6\n",
       "four   2020  2.4\n",
       "five   2021  2.9\n",
       "six    2022  3.2\n",
       "seven  2023  1.7"
      ]
     },
     "execution_count": 86,
     "metadata": {},
     "output_type": "execute_result"
    }
   ],
   "source": [
    "index_l = ['one', 'two', 'three', 'four', 'five', 'six', 'seven']\n",
    "df.index=index_l # we can alter an index AFTER creating the DataFrame\n",
    "df\n",
    "# or we can just make a new DataFrame with the bits we want\n",
    "df2 = pd.DataFrame(data, columns=['Year', 'Pop'], index=index_l)\n",
    "df2"
   ]
  },
  {
   "cell_type": "markdown",
   "id": "bcf9c469",
   "metadata": {},
   "source": [
    "### Accessing Data within DataFrames"
   ]
  },
  {
   "cell_type": "code",
   "execution_count": 87,
   "id": "361a631f",
   "metadata": {},
   "outputs": [
    {
     "data": {
      "text/plain": [
       "Year    2020.0\n",
       "Pop        2.4\n",
       "Name: Athlone, dtype: float64"
      ]
     },
     "execution_count": 87,
     "metadata": {},
     "output_type": "execute_result"
    }
   ],
   "source": [
    "# we can use 'loc' to find the 'location' of data members\n",
    "df2.index = towns_l\n",
    "df2\n",
    "df2.loc['Athlone'] # use an index member to locate values"
   ]
  },
  {
   "cell_type": "code",
   "execution_count": 88,
   "id": "0b7fb50b",
   "metadata": {},
   "outputs": [
    {
     "data": {
      "text/plain": [
       "Year    2020.0\n",
       "Pop        2.4\n",
       "Name: Athlone, dtype: float64"
      ]
     },
     "execution_count": 88,
     "metadata": {},
     "output_type": "execute_result"
    }
   ],
   "source": [
    "# we can use 'iloc' to find the ordinal loation (based on the underlying index)\n",
    "df2.iloc[3] # 0, 1, 2, 3 - the member at position three"
   ]
  },
  {
   "cell_type": "code",
   "execution_count": 89,
   "id": "739ea9b2",
   "metadata": {},
   "outputs": [
    {
     "data": {
      "text/plain": [
       "Town    Athenry\n",
       "Year       2023\n",
       "Pop         1.7\n",
       "Name: 0, dtype: object"
      ]
     },
     "execution_count": 89,
     "metadata": {},
     "output_type": "execute_result"
    }
   ],
   "source": [
    "num_l = [4,5,6,3,2,1,0]\n",
    "df3 = pd.DataFrame(data, index=num_l)\n",
    "df3\n",
    "df3.loc[6] # Galway\n",
    "df3.iloc[6]# Athenry"
   ]
  },
  {
   "cell_type": "code",
   "execution_count": 94,
   "id": "c4d71a04",
   "metadata": {},
   "outputs": [
    {
     "data": {
      "text/html": [
       "<div>\n",
       "<style scoped>\n",
       "    .dataframe tbody tr th:only-of-type {\n",
       "        vertical-align: middle;\n",
       "    }\n",
       "\n",
       "    .dataframe tbody tr th {\n",
       "        vertical-align: top;\n",
       "    }\n",
       "\n",
       "    .dataframe thead th {\n",
       "        text-align: right;\n",
       "    }\n",
       "</style>\n",
       "<table border=\"1\" class=\"dataframe\">\n",
       "  <thead>\n",
       "    <tr style=\"text-align: right;\">\n",
       "      <th></th>\n",
       "      <th>Year</th>\n",
       "      <th>Pop</th>\n",
       "      <th>Tour</th>\n",
       "    </tr>\n",
       "  </thead>\n",
       "  <tbody>\n",
       "    <tr>\n",
       "      <th>Cork</th>\n",
       "      <td>2017</td>\n",
       "      <td>1.5</td>\n",
       "      <td>NaN</td>\n",
       "    </tr>\n",
       "    <tr>\n",
       "      <th>Dublin</th>\n",
       "      <td>2018</td>\n",
       "      <td>1.7</td>\n",
       "      <td>2.9</td>\n",
       "    </tr>\n",
       "    <tr>\n",
       "      <th>Galway</th>\n",
       "      <td>2019</td>\n",
       "      <td>3.6</td>\n",
       "      <td>3.2</td>\n",
       "    </tr>\n",
       "    <tr>\n",
       "      <th>Athlone</th>\n",
       "      <td>2020</td>\n",
       "      <td>2.4</td>\n",
       "      <td>NaN</td>\n",
       "    </tr>\n",
       "    <tr>\n",
       "      <th>Shannon</th>\n",
       "      <td>2021</td>\n",
       "      <td>2.9</td>\n",
       "      <td>5.3</td>\n",
       "    </tr>\n",
       "    <tr>\n",
       "      <th>Rosscarbery</th>\n",
       "      <td>2022</td>\n",
       "      <td>3.2</td>\n",
       "      <td>NaN</td>\n",
       "    </tr>\n",
       "    <tr>\n",
       "      <th>Athenry</th>\n",
       "      <td>2023</td>\n",
       "      <td>1.7</td>\n",
       "      <td>NaN</td>\n",
       "    </tr>\n",
       "  </tbody>\n",
       "</table>\n",
       "</div>"
      ],
      "text/plain": [
       "             Year  Pop  Tour\n",
       "Cork         2017  1.5   NaN\n",
       "Dublin       2018  1.7   2.9\n",
       "Galway       2019  3.6   3.2\n",
       "Athlone      2020  2.4   NaN\n",
       "Shannon      2021  2.9   5.3\n",
       "Rosscarbery  2022  3.2   NaN\n",
       "Athenry      2023  1.7   NaN"
      ]
     },
     "execution_count": 94,
     "metadata": {},
     "output_type": "execute_result"
    }
   ],
   "source": [
    "# we can mutate DataFrames\n",
    "df2['Tour'] = np.arange(7.)\n",
    "df2.loc['Galway']['Tour']+99.0 # this does NOT alter the original DataFrame\n",
    "# using 'at' to alter values\n",
    "df2.at['Galway','Tour'] = 99 # this DOES alter the original DataFrame\n",
    "df2\n",
    "# we can overwrite many values\n",
    "new_values = [3.2, 5.3, 2.9]\n",
    "df2['Tour'] = pd.Series(new_values, index=['Galway', 'Shannon', 'Dublin'])\n",
    "df2 # missing members become NaN"
   ]
  },
  {
   "cell_type": "markdown",
   "id": "177e4cce",
   "metadata": {},
   "source": [
    "### Indexing and Filtering DataFrames"
   ]
  },
  {
   "cell_type": "code",
   "execution_count": 96,
   "id": "07fc7023",
   "metadata": {},
   "outputs": [
    {
     "data": {
      "text/html": [
       "<div>\n",
       "<style scoped>\n",
       "    .dataframe tbody tr th:only-of-type {\n",
       "        vertical-align: middle;\n",
       "    }\n",
       "\n",
       "    .dataframe tbody tr th {\n",
       "        vertical-align: top;\n",
       "    }\n",
       "\n",
       "    .dataframe thead th {\n",
       "        text-align: right;\n",
       "    }\n",
       "</style>\n",
       "<table border=\"1\" class=\"dataframe\">\n",
       "  <thead>\n",
       "    <tr style=\"text-align: right;\">\n",
       "      <th></th>\n",
       "      <th>red</th>\n",
       "      <th>green</th>\n",
       "      <th>gold</th>\n",
       "      <th>white</th>\n",
       "    </tr>\n",
       "  </thead>\n",
       "  <tbody>\n",
       "    <tr>\n",
       "      <th>Waterford</th>\n",
       "      <td>0</td>\n",
       "      <td>1</td>\n",
       "      <td>2</td>\n",
       "      <td>3</td>\n",
       "    </tr>\n",
       "    <tr>\n",
       "      <th>Clonakilty</th>\n",
       "      <td>4</td>\n",
       "      <td>5</td>\n",
       "      <td>6</td>\n",
       "      <td>7</td>\n",
       "    </tr>\n",
       "    <tr>\n",
       "      <th>Athenry</th>\n",
       "      <td>8</td>\n",
       "      <td>9</td>\n",
       "      <td>10</td>\n",
       "      <td>11</td>\n",
       "    </tr>\n",
       "    <tr>\n",
       "      <th>Meath</th>\n",
       "      <td>12</td>\n",
       "      <td>13</td>\n",
       "      <td>14</td>\n",
       "      <td>15</td>\n",
       "    </tr>\n",
       "  </tbody>\n",
       "</table>\n",
       "</div>"
      ],
      "text/plain": [
       "            red  green  gold  white\n",
       "Waterford     0      1     2      3\n",
       "Clonakilty    4      5     6      7\n",
       "Athenry       8      9    10     11\n",
       "Meath        12     13    14     15"
      ]
     },
     "execution_count": 96,
     "metadata": {},
     "output_type": "execute_result"
    }
   ],
   "source": [
    "i = ['Waterford', 'Clonakilty', 'Athenry', 'Meath']\n",
    "c = ['red', 'green', 'gold', 'white']\n",
    "df4 = pd.DataFrame(np.arange(16).reshape(4,4), index=i, columns=c)\n",
    "df4"
   ]
  },
  {
   "cell_type": "code",
   "execution_count": 105,
   "id": "c1bb26c4",
   "metadata": {},
   "outputs": [
    {
     "data": {
      "text/html": [
       "<div>\n",
       "<style scoped>\n",
       "    .dataframe tbody tr th:only-of-type {\n",
       "        vertical-align: middle;\n",
       "    }\n",
       "\n",
       "    .dataframe tbody tr th {\n",
       "        vertical-align: top;\n",
       "    }\n",
       "\n",
       "    .dataframe thead th {\n",
       "        text-align: right;\n",
       "    }\n",
       "</style>\n",
       "<table border=\"1\" class=\"dataframe\">\n",
       "  <thead>\n",
       "    <tr style=\"text-align: right;\">\n",
       "      <th></th>\n",
       "      <th>red</th>\n",
       "      <th>green</th>\n",
       "      <th>gold</th>\n",
       "      <th>white</th>\n",
       "    </tr>\n",
       "  </thead>\n",
       "  <tbody>\n",
       "    <tr>\n",
       "      <th>Waterford</th>\n",
       "      <td>0</td>\n",
       "      <td>1</td>\n",
       "      <td>2</td>\n",
       "      <td>3</td>\n",
       "    </tr>\n",
       "    <tr>\n",
       "      <th>Clonakilty</th>\n",
       "      <td>4</td>\n",
       "      <td>55</td>\n",
       "      <td>6</td>\n",
       "      <td>7</td>\n",
       "    </tr>\n",
       "    <tr>\n",
       "      <th>Athenry</th>\n",
       "      <td>8</td>\n",
       "      <td>9</td>\n",
       "      <td>10</td>\n",
       "      <td>11</td>\n",
       "    </tr>\n",
       "    <tr>\n",
       "      <th>Meath</th>\n",
       "      <td>12</td>\n",
       "      <td>13</td>\n",
       "      <td>14</td>\n",
       "      <td>15</td>\n",
       "    </tr>\n",
       "  </tbody>\n",
       "</table>\n",
       "</div>"
      ],
      "text/plain": [
       "            red  green  gold  white\n",
       "Waterford     0      1     2      3\n",
       "Clonakilty    4     55     6      7\n",
       "Athenry       8      9    10     11\n",
       "Meath        12     13    14     15"
      ]
     },
     "execution_count": 105,
     "metadata": {},
     "output_type": "execute_result"
    }
   ],
   "source": [
    "whichRow = df4[ df4['gold']==6 ]\n",
    "whichRow\n",
    "# we can mutate values\n",
    "# whichRow['green']=55\n",
    "df4.loc['Clonakilty']['green'] = 55\n",
    "df4"
   ]
  },
  {
   "cell_type": "code",
   "execution_count": 106,
   "id": "bd4d5f96",
   "metadata": {},
   "outputs": [
    {
     "data": {
      "text/html": [
       "<div>\n",
       "<style scoped>\n",
       "    .dataframe tbody tr th:only-of-type {\n",
       "        vertical-align: middle;\n",
       "    }\n",
       "\n",
       "    .dataframe tbody tr th {\n",
       "        vertical-align: top;\n",
       "    }\n",
       "\n",
       "    .dataframe thead th {\n",
       "        text-align: right;\n",
       "    }\n",
       "</style>\n",
       "<table border=\"1\" class=\"dataframe\">\n",
       "  <thead>\n",
       "    <tr style=\"text-align: right;\">\n",
       "      <th></th>\n",
       "      <th>red</th>\n",
       "      <th>green</th>\n",
       "      <th>gold</th>\n",
       "      <th>white</th>\n",
       "    </tr>\n",
       "  </thead>\n",
       "  <tbody>\n",
       "    <tr>\n",
       "      <th>Waterford</th>\n",
       "      <td>0</td>\n",
       "      <td>1</td>\n",
       "      <td>2</td>\n",
       "      <td>3</td>\n",
       "    </tr>\n",
       "    <tr>\n",
       "      <th>Clonakilty</th>\n",
       "      <td>4</td>\n",
       "      <td>55</td>\n",
       "      <td>6</td>\n",
       "      <td>77</td>\n",
       "    </tr>\n",
       "    <tr>\n",
       "      <th>Athenry</th>\n",
       "      <td>8</td>\n",
       "      <td>9</td>\n",
       "      <td>10</td>\n",
       "      <td>11</td>\n",
       "    </tr>\n",
       "    <tr>\n",
       "      <th>Meath</th>\n",
       "      <td>12</td>\n",
       "      <td>13</td>\n",
       "      <td>14</td>\n",
       "      <td>15</td>\n",
       "    </tr>\n",
       "  </tbody>\n",
       "</table>\n",
       "</div>"
      ],
      "text/plain": [
       "            red  green  gold  white\n",
       "Waterford     0      1     2      3\n",
       "Clonakilty    4     55     6     77\n",
       "Athenry       8      9    10     11\n",
       "Meath        12     13    14     15"
      ]
     },
     "execution_count": 106,
     "metadata": {},
     "output_type": "execute_result"
    }
   ],
   "source": [
    "# we can still use iloc\n",
    "df4.iloc[1]['white']=77\n",
    "df4"
   ]
  }
 ],
 "metadata": {
  "kernelspec": {
   "display_name": "Python 3 (ipykernel)",
   "language": "python",
   "name": "python3"
  },
  "language_info": {
   "codemirror_mode": {
    "name": "ipython",
    "version": 3
   },
   "file_extension": ".py",
   "mimetype": "text/x-python",
   "name": "python",
   "nbconvert_exporter": "python",
   "pygments_lexer": "ipython3",
   "version": "3.9.12"
  }
 },
 "nbformat": 4,
 "nbformat_minor": 5
}
