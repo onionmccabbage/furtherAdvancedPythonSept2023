{
 "cells": [
  {
   "cell_type": "markdown",
   "id": "bf2017d6",
   "metadata": {},
   "source": [
    "### Introduction to Pandas"
   ]
  },
  {
   "cell_type": "code",
   "execution_count": 2,
   "id": "c8e07045",
   "metadata": {},
   "outputs": [],
   "source": [
    "# by convention we import things in the top cell\n",
    "import numpy as np\n",
    "import pandas as pd # convention is call it pd"
   ]
  },
  {
   "cell_type": "code",
   "execution_count": 7,
   "id": "78752dd1",
   "metadata": {},
   "outputs": [
    {
     "data": {
      "text/plain": [
       "RangeIndex(start=0, stop=5, step=1)"
      ]
     },
     "execution_count": 7,
     "metadata": {},
     "output_type": "execute_result"
    }
   ],
   "source": [
    "# pandas has a 'series' data type\n",
    "o = pd.Series([8.0, 7, -5, 3, 99]) # Series members must be the same data type\n",
    "o.dtype\n",
    "o # series always have a numeric index (zero based)\n",
    "o.values # it is a numpy array\n",
    "o.index  # it is a range "
   ]
  },
  {
   "cell_type": "markdown",
   "id": "581fbc8c",
   "metadata": {},
   "source": [
    "#### Building Series"
   ]
  },
  {
   "cell_type": "code",
   "execution_count": 16,
   "id": "948edfa3",
   "metadata": {},
   "outputs": [
    {
     "data": {
      "text/plain": [
       "d     4.000\n",
       "b    99.400\n",
       "a    -5.000\n",
       "c     3.000\n",
       "e     0.001\n",
       "dtype: float64"
      ]
     },
     "execution_count": 16,
     "metadata": {},
     "output_type": "execute_result"
    }
   ],
   "source": [
    "vals = [4, 7, -5, 3] # just a python list\n",
    "ind  = ['d', 'b', 'a', 'c'] # another python list\n",
    "# we can make a Series from these lists\n",
    "s = pd.Series(vals, index=ind) # formally declare the index\n",
    "s # in addition to the zero-based index, we have our own index\n",
    "s['c'] # access members by their index\n",
    "s['b']=99.4 # might need to automatically change the data type\n",
    "s # careful - auto dtype changes may be deprecated in future\n",
    "# we can add new members to our Series\n",
    "s['e']=0.001\n",
    "s"
   ]
  },
  {
   "cell_type": "markdown",
   "id": "19558149",
   "metadata": {},
   "source": [
    "#### Slicing Series"
   ]
  },
  {
   "cell_type": "code",
   "execution_count": 20,
   "id": "bc37cb73",
   "metadata": {},
   "outputs": [
    {
     "data": {
      "text/plain": [
       "b    99.4\n",
       "c     3.0\n",
       "dtype: float64"
      ]
     },
     "execution_count": 20,
     "metadata": {},
     "output_type": "execute_result"
    }
   ],
   "source": [
    "s['b':'e':2] # slicing start:stop:step (not stop-before)"
   ]
  },
  {
   "cell_type": "code",
   "execution_count": 24,
   "id": "81190626",
   "metadata": {},
   "outputs": [
    {
     "data": {
      "text/plain": [
       "d    2.000000\n",
       "b    9.969955\n",
       "a         NaN\n",
       "c    1.732051\n",
       "e    0.031623\n",
       "dtype: float64"
      ]
     },
     "execution_count": 24,
     "metadata": {},
     "output_type": "execute_result"
    }
   ],
   "source": [
    "# we can apply logic to slice parts of our Series\n",
    "s[s>2]\n",
    "s[s<0]\n",
    "s**0.5"
   ]
  },
  {
   "cell_type": "code",
   "execution_count": null,
   "id": "f223f360",
   "metadata": {},
   "outputs": [],
   "source": []
  }
 ],
 "metadata": {
  "kernelspec": {
   "display_name": "Python 3 (ipykernel)",
   "language": "python",
   "name": "python3"
  },
  "language_info": {
   "codemirror_mode": {
    "name": "ipython",
    "version": 3
   },
   "file_extension": ".py",
   "mimetype": "text/x-python",
   "name": "python",
   "nbconvert_exporter": "python",
   "pygments_lexer": "ipython3",
   "version": "3.9.12"
  }
 },
 "nbformat": 4,
 "nbformat_minor": 5
}
