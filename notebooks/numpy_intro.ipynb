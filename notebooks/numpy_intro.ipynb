{
 "cells": [
  {
   "cell_type": "code",
   "execution_count": 1,
   "id": "fa671674",
   "metadata": {
    "scrolled": true
   },
   "outputs": [
    {
     "data": {
      "text/plain": [
       "0.136986301369863"
      ]
     },
     "execution_count": 1,
     "metadata": {},
     "output_type": "execute_result"
    }
   ],
   "source": [
    "# we can do all our usual Python right here\n",
    "a = 1\n",
    "b = 7.3\n",
    "a/b # no need for 'print'"
   ]
  },
  {
   "cell_type": "code",
   "execution_count": 8,
   "id": "24fba15a",
   "metadata": {},
   "outputs": [
    {
     "data": {
      "text/plain": [
       "7.3"
      ]
     },
     "execution_count": 8,
     "metadata": {},
     "output_type": "execute_result"
    }
   ],
   "source": [
    "b*a # crtl-enter runs and stays in cell"
   ]
  },
  {
   "cell_type": "code",
   "execution_count": 3,
   "id": "ec58722b",
   "metadata": {},
   "outputs": [
    {
     "data": {
      "text/plain": [
       "1.0"
      ]
     },
     "execution_count": 3,
     "metadata": {},
     "output_type": "execute_result"
    }
   ],
   "source": [
    "a**b # shift-enter runs and adds a cell"
   ]
  },
  {
   "cell_type": "code",
   "execution_count": 10,
   "id": "1ffebf87",
   "metadata": {},
   "outputs": [
    {
     "name": "stdout",
     "output_type": "stream",
     "text": [
      "hello\n"
     ]
    }
   ],
   "source": [
    "print('hello') # by default ipynb uses '__repr__' instead of '__str__'"
   ]
  },
  {
   "cell_type": "code",
   "execution_count": 11,
   "id": "a5af5041",
   "metadata": {},
   "outputs": [],
   "source": [
    "# Numpy is really good for numerical analysis in Python\n",
    "import numpy as np # this is conventional"
   ]
  },
  {
   "cell_type": "code",
   "execution_count": 32,
   "id": "963a4f35",
   "metadata": {},
   "outputs": [
    {
     "data": {
      "text/plain": [
       "array([3, 4, 5, 6, 7, 8, 9])"
      ]
     },
     "execution_count": 32,
     "metadata": {},
     "output_type": "execute_result"
    }
   ],
   "source": [
    "# numpy offer a few additional data structures\n",
    "# array-range (arange)\n",
    "n = np.arange(3,10)\n",
    "# an arange can only contain the SAME data types\n",
    "# arange is a mutable indexed collection of ONE data type\n",
    "n\n",
    "n.dtype # these are int32\n",
    "n"
   ]
  },
  {
   "cell_type": "code",
   "execution_count": 30,
   "id": "ee0c70a5",
   "metadata": {},
   "outputs": [
    {
     "data": {
      "text/plain": [
       "array([[-0.94500363,  1.42758393,  0.25573185],\n",
       "       [ 0.306648  ,  0.58734406,  0.2583767 ],\n",
       "       [-0.67135944,  1.20755643, -1.00868353],\n",
       "       [ 0.83342476,  1.9058618 , -1.86103146],\n",
       "       [ 0.03981026,  1.3420358 , -0.09123645],\n",
       "       [-1.50427056, -1.29687203, -0.77106732],\n",
       "       [-0.01470666,  0.53907411,  0.73360731],\n",
       "       [ 0.05234443, -0.82784377,  1.37108855],\n",
       "       [ 0.27822993,  0.76660202,  2.12173326]])"
      ]
     },
     "execution_count": 30,
     "metadata": {},
     "output_type": "execute_result"
    }
   ],
   "source": [
    "# we can use n-dimensional arrays: (mutable of one type)\n",
    "d = np.random.randn(9,3) # rows columns\n",
    "d.dtype # float\n",
    "d.shape # 9 by 3\n",
    "d"
   ]
  },
  {
   "cell_type": "code",
   "execution_count": 33,
   "id": "a9c83cb5",
   "metadata": {},
   "outputs": [
    {
     "data": {
      "text/plain": [
       "(9, 3, 2)"
      ]
     },
     "execution_count": 33,
     "metadata": {},
     "output_type": "execute_result"
    }
   ],
   "source": [
    "e = np.random.randn(9, 3, 2) \n",
    "e.shape"
   ]
  },
  {
   "cell_type": "markdown",
   "id": "2b14b1a0",
   "metadata": {},
   "source": [
    "### Creating Arrays"
   ]
  },
  {
   "cell_type": "code",
   "execution_count": 41,
   "id": "fc5fff16",
   "metadata": {},
   "outputs": [
    {
     "data": {
      "text/plain": [
       "array([[1.37962049e-306, 1.24610791e-306, 1.11260959e-306],\n",
       "       [1.69109959e-306, 9.34603679e-307, 1.42419802e-306],\n",
       "       [1.78019082e-306, 4.45061456e-308, 1.24612081e-306],\n",
       "       [1.37962049e-306, 9.34597567e-307, 1.29061821e-306],\n",
       "       [1.78019625e-306, 1.11255866e-306, 8.90098127e-307],\n",
       "       [9.34609790e-307, 3.91792279e-317, 1.69121095e-306]])"
      ]
     },
     "execution_count": 41,
     "metadata": {},
     "output_type": "execute_result"
    }
   ],
   "source": [
    "f = np.empty( (6,3) ) # floating point's if the memory is not actually 'empty'\n",
    "f"
   ]
  },
  {
   "cell_type": "code",
   "execution_count": 43,
   "id": "5619fa5e",
   "metadata": {},
   "outputs": [
    {
     "data": {
      "text/plain": [
       "array([[0., 0., 0.],\n",
       "       [0., 0., 0.],\n",
       "       [0., 0., 0.],\n",
       "       [0., 0., 0.],\n",
       "       [0., 0., 0.],\n",
       "       [0., 0., 0.]])"
      ]
     },
     "execution_count": 43,
     "metadata": {},
     "output_type": "execute_result"
    }
   ],
   "source": [
    "g = np.zeros( (6,3) ) # these are floating point zeros\n",
    "g"
   ]
  },
  {
   "cell_type": "code",
   "execution_count": 45,
   "id": "656a6fef",
   "metadata": {},
   "outputs": [
    {
     "data": {
      "text/plain": [
       "array([['-0.9450036278533502', '1.4275839342969499',\n",
       "        '0.2557318503733136'],\n",
       "       ['0.3066479968130693', '0.5873440593862456',\n",
       "        '0.25837670479312314'],\n",
       "       ['-0.6713594403172901', '1.2075564263095584',\n",
       "        '-1.008683530619453'],\n",
       "       ['0.8334247600122415', '1.9058617979242434',\n",
       "        '-1.8610314641141632'],\n",
       "       ['0.03981025700638125', '1.3420357977515296',\n",
       "        '-0.09123645188299816'],\n",
       "       ['-1.5042705566759953', '-1.2968720273468595',\n",
       "        '-0.7710673234750863'],\n",
       "       ['-0.014706664878413588', '0.5390741052415022',\n",
       "        '0.7336073053329419'],\n",
       "       ['0.05234442500924299', '-0.827843769714676',\n",
       "        '1.3710885481066302'],\n",
       "       ['0.27822993094655646', '0.7666020182813867',\n",
       "        '2.1217332591863656']], dtype='<U32')"
      ]
     },
     "execution_count": 45,
     "metadata": {},
     "output_type": "execute_result"
    }
   ],
   "source": [
    "# we can convert the type\n",
    "s = d.astype(np.str_) # this is numpy syntax\n",
    "# s = d.astype(np.string_) # we get bytes\n",
    "s # we see the full accuracy of the original numerical values"
   ]
  },
  {
   "cell_type": "code",
   "execution_count": 48,
   "id": "d07a2c37",
   "metadata": {},
   "outputs": [
    {
     "data": {
      "text/plain": [
       "array([[[9., 9., 9.],\n",
       "        [9., 9., 9.],\n",
       "        [9., 9., 9.]],\n",
       "\n",
       "       [[9., 9., 9.],\n",
       "        [9., 9., 9.],\n",
       "        [9., 9., 9.]],\n",
       "\n",
       "       [[9., 9., 9.],\n",
       "        [9., 9., 9.],\n",
       "        [9., 9., 9.]]])"
      ]
     },
     "execution_count": 48,
     "metadata": {},
     "output_type": "execute_result"
    }
   ],
   "source": [
    "# we can apply calculations to arrays\n",
    "z = np.zeros( (3,3,3) )\n",
    "z+3 # takes next to no time\n",
    "(z+3)**2"
   ]
  },
  {
   "cell_type": "code",
   "execution_count": 50,
   "id": "ba4bdbbf",
   "metadata": {},
   "outputs": [
    {
     "data": {
      "text/plain": [
       "array([[-6.85125018e-87, -1.33166752e-87, -4.05786171e-87],\n",
       "       [-3.93941050e-87, -3.28639978e-87, -4.05170873e-87],\n",
       "       [-6.21464492e-87, -1.84353905e-87, -6.99939497e-87],\n",
       "       [-2.71391816e-87, -2.19002913e-88, -8.98229539e-87],\n",
       "       [-4.56018125e-87, -1.53068652e-87, -4.86504804e-87],\n",
       "       [-8.15232757e-87, -7.66983608e-87, -6.44660513e-87],\n",
       "       [-4.68700930e-87, -3.39869490e-87, -2.94613327e-87],\n",
       "       [-4.53102179e-87, -6.57868973e-87, -1.46309826e-87],\n",
       "       [-4.00552223e-87, -2.86937444e-87,  2.83199995e-88]])"
      ]
     },
     "execution_count": 50,
     "metadata": {},
     "output_type": "execute_result"
    }
   ],
   "source": [
    "((d-2)*0.5)/b**100"
   ]
  },
  {
   "cell_type": "markdown",
   "id": "9902e8ab",
   "metadata": {},
   "source": [
    "### Accessing Members from Arrays"
   ]
  },
  {
   "cell_type": "code",
   "execution_count": 53,
   "id": "e7733e98",
   "metadata": {},
   "outputs": [
    {
     "data": {
      "text/plain": [
       "array([[-0.94500363,  1.42758393,  0.25573185],\n",
       "       [ 0.306648  ,  0.58734406,  0.2583767 ],\n",
       "       [-0.67135944,  1.20755643, -1.00868353],\n",
       "       [ 0.83342476,  1.9058618 , -1.86103146],\n",
       "       [ 0.03981026,  1.3420358 , -0.09123645],\n",
       "       [-1.50427056, -1.29687203, -0.77106732],\n",
       "       [-0.01470666,  0.53907411,  0.73360731],\n",
       "       [ 0.05234443, -0.82784377,  1.37108855],\n",
       "       [ 0.27822993,  0.76660202,  2.12173326]])"
      ]
     },
     "execution_count": 53,
     "metadata": {},
     "output_type": "execute_result"
    }
   ],
   "source": [
    "d"
   ]
  },
  {
   "cell_type": "code",
   "execution_count": 56,
   "id": "62e1b61b",
   "metadata": {},
   "outputs": [
    {
     "data": {
      "text/plain": [
       "array([[ 0.306648  ,  0.58734406,  0.2583767 ],\n",
       "       [ 0.83342476,  1.9058618 , -1.86103146],\n",
       "       [-1.50427056, -1.29687203, -0.77106732]])"
      ]
     },
     "execution_count": 56,
     "metadata": {},
     "output_type": "execute_result"
    }
   ],
   "source": [
    "d[1:6:2] # start:stop-before:step"
   ]
  },
  {
   "cell_type": "code",
   "execution_count": 57,
   "id": "9157cf4d",
   "metadata": {},
   "outputs": [
    {
     "data": {
      "text/plain": [
       "array([[-0.94500363,  0.306648  , -0.67135944,  0.83342476,  0.03981026,\n",
       "        -1.50427056, -0.01470666,  0.05234443,  0.27822993],\n",
       "       [ 1.42758393,  0.58734406,  1.20755643,  1.9058618 ,  1.3420358 ,\n",
       "        -1.29687203,  0.53907411, -0.82784377,  0.76660202],\n",
       "       [ 0.25573185,  0.2583767 , -1.00868353, -1.86103146, -0.09123645,\n",
       "        -0.77106732,  0.73360731,  1.37108855,  2.12173326]])"
      ]
     },
     "execution_count": 57,
     "metadata": {},
     "output_type": "execute_result"
    }
   ],
   "source": [
    "# we can transpose an array\n",
    "d.T"
   ]
  },
  {
   "cell_type": "code",
   "execution_count": 58,
   "id": "e25a5550",
   "metadata": {},
   "outputs": [
    {
     "data": {
      "text/plain": [
       "array([[-0.94500363,  1.42758393,  0.25573185],\n",
       "       [ 0.306648  ,  0.58734406,  0.2583767 ],\n",
       "       [-0.67135944,  1.20755643, -1.00868353],\n",
       "       [ 0.83342476,  1.9058618 , -1.86103146],\n",
       "       [ 0.03981026,  1.3420358 , -0.09123645],\n",
       "       [-1.50427056, -1.29687203, -0.77106732],\n",
       "       [-0.01470666,  0.53907411,  0.73360731],\n",
       "       [ 0.05234443, -0.82784377,  1.37108855],\n",
       "       [ 0.27822993,  0.76660202,  2.12173326]])"
      ]
     },
     "execution_count": 58,
     "metadata": {},
     "output_type": "execute_result"
    }
   ],
   "source": [
    "# NB most operations do NOT alter the original structure\n",
    "d"
   ]
  },
  {
   "cell_type": "code",
   "execution_count": null,
   "id": "5f0423d1",
   "metadata": {},
   "outputs": [],
   "source": []
  }
 ],
 "metadata": {
  "kernelspec": {
   "display_name": "Python 3 (ipykernel)",
   "language": "python",
   "name": "python3"
  },
  "language_info": {
   "codemirror_mode": {
    "name": "ipython",
    "version": 3
   },
   "file_extension": ".py",
   "mimetype": "text/x-python",
   "name": "python",
   "nbconvert_exporter": "python",
   "pygments_lexer": "ipython3",
   "version": "3.9.13"
  }
 },
 "nbformat": 4,
 "nbformat_minor": 5
}
