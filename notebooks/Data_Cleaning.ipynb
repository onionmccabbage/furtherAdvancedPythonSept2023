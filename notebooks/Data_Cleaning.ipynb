{
 "cells": [
  {
   "cell_type": "markdown",
   "id": "e0f44cb3",
   "metadata": {},
   "source": [
    "## Cleaning Data"
   ]
  },
  {
   "cell_type": "code",
   "execution_count": 2,
   "id": "3227627c",
   "metadata": {},
   "outputs": [],
   "source": [
    "import numpy as np\n",
    "import pandas as pd"
   ]
  },
  {
   "cell_type": "code",
   "execution_count": 11,
   "id": "6d926bb1",
   "metadata": {},
   "outputs": [
    {
     "data": {
      "text/plain": [
       "0     True\n",
       "1     True\n",
       "2    False\n",
       "3     True\n",
       "dtype: bool"
      ]
     },
     "execution_count": 11,
     "metadata": {},
     "output_type": "execute_result"
    }
   ],
   "source": [
    "# we sometimes need to handle incomplete data\n",
    "d = ['A', 'B', np.nan, 'D']\n",
    "y = pd.Series(d)\n",
    "y.isnull()\n",
    "y.isna()\n",
    "y.notna()\n",
    "y.notnull()"
   ]
  },
  {
   "cell_type": "code",
   "execution_count": 15,
   "id": "5b4eeeb1",
   "metadata": {},
   "outputs": [
    {
     "data": {
      "text/plain": [
       "0    A\n",
       "1    B\n",
       "2    Q\n",
       "3    D\n",
       "dtype: object"
      ]
     },
     "execution_count": 15,
     "metadata": {},
     "output_type": "execute_result"
    }
   ],
   "source": [
    "y.fillna('Q') # most operations do NTO mutate the original structure\n",
    "y.fillna('Q', inplace=True) # mutate the original structure\n",
    "y"
   ]
  },
  {
   "cell_type": "code",
   "execution_count": 21,
   "id": "3949ad97",
   "metadata": {},
   "outputs": [
    {
     "data": {
      "text/plain": [
       "0    A\n",
       "1    B\n",
       "3    D\n",
       "dtype: object"
      ]
     },
     "execution_count": 21,
     "metadata": {},
     "output_type": "execute_result"
    }
   ],
   "source": [
    "# Another approach is to ignire missing values\n",
    "y[2] = np.nan\n",
    "y\n",
    "y.dropna(inplace=True) # completemly remove missing values\n",
    "y"
   ]
  },
  {
   "cell_type": "markdown",
   "id": "0dddbe4e",
   "metadata": {},
   "source": [
    "### Handling Missing Values in a DataFrame"
   ]
  },
  {
   "cell_type": "code",
   "execution_count": 24,
   "id": "5de0bf5f",
   "metadata": {},
   "outputs": [
    {
     "data": {
      "text/html": [
       "<div>\n",
       "<style scoped>\n",
       "    .dataframe tbody tr th:only-of-type {\n",
       "        vertical-align: middle;\n",
       "    }\n",
       "\n",
       "    .dataframe tbody tr th {\n",
       "        vertical-align: top;\n",
       "    }\n",
       "\n",
       "    .dataframe thead th {\n",
       "        text-align: right;\n",
       "    }\n",
       "</style>\n",
       "<table border=\"1\" class=\"dataframe\">\n",
       "  <thead>\n",
       "    <tr style=\"text-align: right;\">\n",
       "      <th></th>\n",
       "      <th>0</th>\n",
       "      <th>1</th>\n",
       "      <th>2</th>\n",
       "    </tr>\n",
       "  </thead>\n",
       "  <tbody>\n",
       "    <tr>\n",
       "      <th>0</th>\n",
       "      <td>0.009677</td>\n",
       "      <td>-0.348117</td>\n",
       "      <td>-0.963492</td>\n",
       "    </tr>\n",
       "    <tr>\n",
       "      <th>1</th>\n",
       "      <td>-0.461290</td>\n",
       "      <td>0.492645</td>\n",
       "      <td>-0.200994</td>\n",
       "    </tr>\n",
       "    <tr>\n",
       "      <th>2</th>\n",
       "      <td>1.870393</td>\n",
       "      <td>-0.211207</td>\n",
       "      <td>-0.181809</td>\n",
       "    </tr>\n",
       "    <tr>\n",
       "      <th>3</th>\n",
       "      <td>0.338563</td>\n",
       "      <td>-0.821811</td>\n",
       "      <td>0.010285</td>\n",
       "    </tr>\n",
       "    <tr>\n",
       "      <th>4</th>\n",
       "      <td>0.749232</td>\n",
       "      <td>1.967595</td>\n",
       "      <td>0.665010</td>\n",
       "    </tr>\n",
       "    <tr>\n",
       "      <th>5</th>\n",
       "      <td>1.843452</td>\n",
       "      <td>0.622885</td>\n",
       "      <td>0.493104</td>\n",
       "    </tr>\n",
       "    <tr>\n",
       "      <th>6</th>\n",
       "      <td>-2.241966</td>\n",
       "      <td>0.576459</td>\n",
       "      <td>-0.642578</td>\n",
       "    </tr>\n",
       "    <tr>\n",
       "      <th>7</th>\n",
       "      <td>0.407063</td>\n",
       "      <td>0.609616</td>\n",
       "      <td>-0.939494</td>\n",
       "    </tr>\n",
       "    <tr>\n",
       "      <th>8</th>\n",
       "      <td>0.793409</td>\n",
       "      <td>-0.602349</td>\n",
       "      <td>0.234220</td>\n",
       "    </tr>\n",
       "    <tr>\n",
       "      <th>9</th>\n",
       "      <td>0.668387</td>\n",
       "      <td>0.205581</td>\n",
       "      <td>-0.918211</td>\n",
       "    </tr>\n",
       "  </tbody>\n",
       "</table>\n",
       "</div>"
      ],
      "text/plain": [
       "          0         1         2\n",
       "0  0.009677 -0.348117 -0.963492\n",
       "1 -0.461290  0.492645 -0.200994\n",
       "2  1.870393 -0.211207 -0.181809\n",
       "3  0.338563 -0.821811  0.010285\n",
       "4  0.749232  1.967595  0.665010\n",
       "5  1.843452  0.622885  0.493104\n",
       "6 -2.241966  0.576459 -0.642578\n",
       "7  0.407063  0.609616 -0.939494\n",
       "8  0.793409 -0.602349  0.234220\n",
       "9  0.668387  0.205581 -0.918211"
      ]
     },
     "execution_count": 24,
     "metadata": {},
     "output_type": "execute_result"
    }
   ],
   "source": [
    "df = pd.DataFrame(np.random.randn(10,3))\n",
    "df # we have default numbers for column and row names"
   ]
  },
  {
   "cell_type": "code",
   "execution_count": 29,
   "id": "12417b03",
   "metadata": {},
   "outputs": [
    {
     "data": {
      "text/html": [
       "<div>\n",
       "<style scoped>\n",
       "    .dataframe tbody tr th:only-of-type {\n",
       "        vertical-align: middle;\n",
       "    }\n",
       "\n",
       "    .dataframe tbody tr th {\n",
       "        vertical-align: top;\n",
       "    }\n",
       "\n",
       "    .dataframe thead th {\n",
       "        text-align: right;\n",
       "    }\n",
       "</style>\n",
       "<table border=\"1\" class=\"dataframe\">\n",
       "  <thead>\n",
       "    <tr style=\"text-align: right;\">\n",
       "      <th></th>\n",
       "      <th>0</th>\n",
       "      <th>1</th>\n",
       "      <th>2</th>\n",
       "    </tr>\n",
       "  </thead>\n",
       "  <tbody>\n",
       "    <tr>\n",
       "      <th>0</th>\n",
       "      <td>0.009677</td>\n",
       "      <td>NaN</td>\n",
       "      <td>-0.963492</td>\n",
       "    </tr>\n",
       "    <tr>\n",
       "      <th>1</th>\n",
       "      <td>-0.461290</td>\n",
       "      <td>NaN</td>\n",
       "      <td>NaN</td>\n",
       "    </tr>\n",
       "    <tr>\n",
       "      <th>2</th>\n",
       "      <td>1.870393</td>\n",
       "      <td>NaN</td>\n",
       "      <td>NaN</td>\n",
       "    </tr>\n",
       "    <tr>\n",
       "      <th>3</th>\n",
       "      <td>0.338563</td>\n",
       "      <td>NaN</td>\n",
       "      <td>0.010285</td>\n",
       "    </tr>\n",
       "    <tr>\n",
       "      <th>4</th>\n",
       "      <td>0.749232</td>\n",
       "      <td>1.967595</td>\n",
       "      <td>0.665010</td>\n",
       "    </tr>\n",
       "    <tr>\n",
       "      <th>5</th>\n",
       "      <td>1.843452</td>\n",
       "      <td>0.622885</td>\n",
       "      <td>0.493104</td>\n",
       "    </tr>\n",
       "    <tr>\n",
       "      <th>6</th>\n",
       "      <td>-2.241966</td>\n",
       "      <td>0.576459</td>\n",
       "      <td>-0.642578</td>\n",
       "    </tr>\n",
       "    <tr>\n",
       "      <th>7</th>\n",
       "      <td>0.407063</td>\n",
       "      <td>0.609616</td>\n",
       "      <td>-0.939494</td>\n",
       "    </tr>\n",
       "    <tr>\n",
       "      <th>8</th>\n",
       "      <td>0.793409</td>\n",
       "      <td>-0.602349</td>\n",
       "      <td>0.234220</td>\n",
       "    </tr>\n",
       "    <tr>\n",
       "      <th>9</th>\n",
       "      <td>0.668387</td>\n",
       "      <td>0.205581</td>\n",
       "      <td>-0.918211</td>\n",
       "    </tr>\n",
       "  </tbody>\n",
       "</table>\n",
       "</div>"
      ],
      "text/plain": [
       "          0         1         2\n",
       "0  0.009677       NaN -0.963492\n",
       "1 -0.461290       NaN       NaN\n",
       "2  1.870393       NaN       NaN\n",
       "3  0.338563       NaN  0.010285\n",
       "4  0.749232  1.967595  0.665010\n",
       "5  1.843452  0.622885  0.493104\n",
       "6 -2.241966  0.576459 -0.642578\n",
       "7  0.407063  0.609616 -0.939494\n",
       "8  0.793409 -0.602349  0.234220\n",
       "9  0.668387  0.205581 -0.918211"
      ]
     },
     "execution_count": 29,
     "metadata": {},
     "output_type": "execute_result"
    }
   ],
   "source": [
    "df.iloc[0:4,1] = np.nan\n",
    "df.iloc[1:3,2] = np.nan # start:stop-before\n",
    "df"
   ]
  },
  {
   "cell_type": "code",
   "execution_count": 31,
   "id": "cee8efdc",
   "metadata": {},
   "outputs": [
    {
     "data": {
      "text/html": [
       "<div>\n",
       "<style scoped>\n",
       "    .dataframe tbody tr th:only-of-type {\n",
       "        vertical-align: middle;\n",
       "    }\n",
       "\n",
       "    .dataframe tbody tr th {\n",
       "        vertical-align: top;\n",
       "    }\n",
       "\n",
       "    .dataframe thead th {\n",
       "        text-align: right;\n",
       "    }\n",
       "</style>\n",
       "<table border=\"1\" class=\"dataframe\">\n",
       "  <thead>\n",
       "    <tr style=\"text-align: right;\">\n",
       "      <th></th>\n",
       "      <th>0</th>\n",
       "      <th>1</th>\n",
       "      <th>2</th>\n",
       "    </tr>\n",
       "  </thead>\n",
       "  <tbody>\n",
       "    <tr>\n",
       "      <th>0</th>\n",
       "      <td>0.009677</td>\n",
       "      <td>NaN</td>\n",
       "      <td>-0.963492</td>\n",
       "    </tr>\n",
       "    <tr>\n",
       "      <th>1</th>\n",
       "      <td>-0.461290</td>\n",
       "      <td>NaN</td>\n",
       "      <td>NaN</td>\n",
       "    </tr>\n",
       "    <tr>\n",
       "      <th>2</th>\n",
       "      <td>1.870393</td>\n",
       "      <td>NaN</td>\n",
       "      <td>NaN</td>\n",
       "    </tr>\n",
       "    <tr>\n",
       "      <th>3</th>\n",
       "      <td>0.338563</td>\n",
       "      <td>NaN</td>\n",
       "      <td>0.010285</td>\n",
       "    </tr>\n",
       "    <tr>\n",
       "      <th>4</th>\n",
       "      <td>0.749232</td>\n",
       "      <td>1.967595</td>\n",
       "      <td>0.665010</td>\n",
       "    </tr>\n",
       "    <tr>\n",
       "      <th>5</th>\n",
       "      <td>1.843452</td>\n",
       "      <td>0.622885</td>\n",
       "      <td>0.493104</td>\n",
       "    </tr>\n",
       "    <tr>\n",
       "      <th>6</th>\n",
       "      <td>-2.241966</td>\n",
       "      <td>0.576459</td>\n",
       "      <td>-0.642578</td>\n",
       "    </tr>\n",
       "    <tr>\n",
       "      <th>7</th>\n",
       "      <td>0.407063</td>\n",
       "      <td>0.609616</td>\n",
       "      <td>-0.939494</td>\n",
       "    </tr>\n",
       "    <tr>\n",
       "      <th>8</th>\n",
       "      <td>0.793409</td>\n",
       "      <td>-0.602349</td>\n",
       "      <td>0.234220</td>\n",
       "    </tr>\n",
       "    <tr>\n",
       "      <th>9</th>\n",
       "      <td>0.668387</td>\n",
       "      <td>0.205581</td>\n",
       "      <td>-0.918211</td>\n",
       "    </tr>\n",
       "  </tbody>\n",
       "</table>\n",
       "</div>"
      ],
      "text/plain": [
       "          0         1         2\n",
       "0  0.009677       NaN -0.963492\n",
       "1 -0.461290       NaN       NaN\n",
       "2  1.870393       NaN       NaN\n",
       "3  0.338563       NaN  0.010285\n",
       "4  0.749232  1.967595  0.665010\n",
       "5  1.843452  0.622885  0.493104\n",
       "6 -2.241966  0.576459 -0.642578\n",
       "7  0.407063  0.609616 -0.939494\n",
       "8  0.793409 -0.602349  0.234220\n",
       "9  0.668387  0.205581 -0.918211"
      ]
     },
     "execution_count": 31,
     "metadata": {},
     "output_type": "execute_result"
    }
   ],
   "source": [
    "# There are several strategies to deal with missing members\n",
    "df.fillna(0) # one option is to fill missing members\n",
    "df # remember the original structure is NOT alters\n"
   ]
  }
 ],
 "metadata": {
  "kernelspec": {
   "display_name": "Python 3 (ipykernel)",
   "language": "python",
   "name": "python3"
  },
  "language_info": {
   "codemirror_mode": {
    "name": "ipython",
    "version": 3
   },
   "file_extension": ".py",
   "mimetype": "text/x-python",
   "name": "python",
   "nbconvert_exporter": "python",
   "pygments_lexer": "ipython3",
   "version": "3.9.12"
  }
 },
 "nbformat": 4,
 "nbformat_minor": 5
}
