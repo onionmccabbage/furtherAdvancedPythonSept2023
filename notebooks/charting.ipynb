{
 "cells": [
  {
   "cell_type": "markdown",
   "id": "9feadd20",
   "metadata": {},
   "source": [
    "### charting"
   ]
  },
  {
   "cell_type": "code",
   "execution_count": 3,
   "id": "8f40cc33",
   "metadata": {},
   "outputs": [],
   "source": [
    "import numpy as np\n",
    "import pandas as pd\n",
    "import matplotlib.pyplot as plt"
   ]
  },
  {
   "cell_type": "code",
   "execution_count": 23,
   "id": "76c17e33",
   "metadata": {},
   "outputs": [
    {
     "data": {
      "text/plain": [
       "array([4.7279418 , 4.89886017, 4.75023833, 4.98485678, 4.88493369])"
      ]
     },
     "execution_count": 23,
     "metadata": {},
     "output_type": "execute_result"
    }
   ],
   "source": [
    "# we need some data to be plotted\n",
    "x = np.arange(5)\n",
    "y = np.random.rand(5)+4 # five random numbers\n",
    "y"
   ]
  },
  {
   "cell_type": "code",
   "execution_count": 25,
   "id": "88dcaf97",
   "metadata": {},
   "outputs": [
    {
     "data": {
      "text/plain": [
       "Text(0.5, 1.0, 'Vertical Bars')"
      ]
     },
     "execution_count": 25,
     "metadata": {},
     "output_type": "execute_result"
    },
    {
     "data": {
      "image/png": "[encoded data removed]",
      "text/plain": [
       "<Figure size 432x288 with 1 Axes>"
      ]
     },
     "metadata": {
      "needs_background": "light"
     },
     "output_type": "display_data"
    }
   ],
   "source": [
    "plt.bar(x,y)\n",
    "plt.title('Vertical Bars')"
   ]
  },
  {
   "cell_type": "markdown",
   "id": "243040b9",
   "metadata": {},
   "source": [
    "### Plotting Multiple charts"
   ]
  },
  {
   "cell_type": "code",
   "execution_count": 34,
   "id": "260759c8",
   "metadata": {},
   "outputs": [
    {
     "data": {
      "text/plain": [
       "([<matplotlib.patches.Wedge at 0x167599e3a90>,\n",
       "  <matplotlib.patches.Wedge at 0x167599e3f70>,\n",
       "  <matplotlib.patches.Wedge at 0x167599f2490>,\n",
       "  <matplotlib.patches.Wedge at 0x167599f2970>,\n",
       "  <matplotlib.patches.Wedge at 0x167599f2e50>],\n",
       " [Text(0.8999802482173935, 0.6324836383801236, ''),\n",
       "  Text(-0.3136059620479876, 1.054348756611377, ''),\n",
       "  Text(-1.0994548890005988, 0.03462581483056943, ''),\n",
       "  Text(-0.3678011400869832, -1.0366881504824466, ''),\n",
       "  Text(0.8869297136941852, -0.6506578847338677, '')])"
      ]
     },
     "execution_count": 34,
     "metadata": {},
     "output_type": "execute_result"
    },
    {
     "data": {
      "image/png": "[encoded data removed]",
      "text/plain": [
       "<Figure size 432x288 with 1 Axes>"
      ]
     },
     "metadata": {},
     "output_type": "display_data"
    }
   ],
   "source": [
    "plt.subplots(2)\n",
    "plt.subplot(211)\n",
    "plt.bar(x,y)\n",
    "plt.subplot(221)\n",
    "plt.barh(x,y)\n",
    "plt.subplot(222)\n",
    "plt.pie(y) # pie is a one-dimensional chart"
   ]
  },
  {
   "cell_type": "markdown",
   "id": "aa5145d4",
   "metadata": {},
   "source": [
    "### Line charts"
   ]
  },
  {
   "cell_type": "code",
   "execution_count": 37,
   "id": "32a0a3cd",
   "metadata": {},
   "outputs": [
    {
     "data": {
      "text/plain": [
       "(array([0.   , 0.625, 1.25 , 1.875, 2.5  , 3.125, 3.75 , 4.375, 5.   ]),\n",
       " array([ 0.      ,  0.390625,  1.5625  ,  3.515625,  6.25    ,  9.765625,\n",
       "        14.0625  , 19.140625, 25.      ]))"
      ]
     },
     "execution_count": 37,
     "metadata": {},
     "output_type": "execute_result"
    }
   ],
   "source": [
    "x = np.linspace(0, 6, 12)\n",
    "y = np.power(x, 2)\n",
    "x,y"
   ]
  },
  {
   "cell_type": "code",
   "execution_count": 38,
   "id": "bd4bebdd",
   "metadata": {},
   "outputs": [
    {
     "data": {
      "text/plain": [
       "[<matplotlib.lines.Line2D at 0x167598aa2b0>]"
      ]
     },
     "execution_count": 38,
     "metadata": {},
     "output_type": "execute_result"
    },
    {
     "data": {
      "image/png": "[encoded data removed]",
      "text/plain": [
       "<Figure size 432x288 with 1 Axes>"
      ]
     },
     "metadata": {
      "needs_background": "light"
     },
     "output_type": "display_data"
    }
   ],
   "source": [
    "plt.axis([0, 7, 0, 42])\n",
    "plt.xlabel('Linear Progression')\n",
    "plt.ylabel('squares')\n",
    "plt.title('Line Chart')\n",
    "plt.plot(x,y)"
   ]
  },
  {
   "cell_type": "code",
   "execution_count": null,
   "id": "b0c99103",
   "metadata": {},
   "outputs": [],
   "source": []
  }
 ],
 "metadata": {
  "kernelspec": {
   "display_name": "Python 3 (ipykernel)",
   "language": "python",
   "name": "python3"
  },
  "language_info": {
   "codemirror_mode": {
    "name": "ipython",
    "version": 3
   },
   "file_extension": ".py",
   "mimetype": "text/x-python",
   "name": "python",
   "nbconvert_exporter": "python",
   "pygments_lexer": "ipython3",
   "version": "3.9.12"
  }
 },
 "nbformat": 4,
 "nbformat_minor": 5
}
